{
 "cells": [
  {
   "cell_type": "code",
   "execution_count": 1,
   "metadata": {},
   "outputs": [],
   "source": [
    "from bs4 import BeautifulSoup\n",
    "import logging\n",
    "import numpy as np\n",
    "import pandas as pd\n",
    "import requests\n",
    "from tqdm import tqdm"
   ]
  },
  {
   "cell_type": "code",
   "execution_count": 2,
   "metadata": {},
   "outputs": [],
   "source": [
    "link_template = 'https://dblp.org/db/conf/icml/icml2025.html'\n",
    "def get_title_author(link):\n",
    "    resp = requests.get(link, proxies=None)\n",
    "    soup = BeautifulSoup(resp.content, 'html.parser')\n",
    "    uls = soup.find_all('ul', class_='publ-list')\n",
    "    titles, authors = [], []\n",
    "    for ul in uls[1:]:  # 遍历所有 ul\n",
    "        articles = ul.find_all('li', class_='entry inproceedings')  # 找到当前 ul 下的所有 li\n",
    "        print(f\"Found {len(articles)} articles in one ul.\")\n",
    "        for li in articles:\n",
    "            title = li.find('span', class_='title').text\n",
    "            author_list = [a.text for a in li.find_all('span', itemprop='name')]\n",
    "\n",
    "            titles.append(title)\n",
    "            authors.append(\", \".join(author_list[:-1]))\n",
    "\n",
    "    return titles, authors"
   ]
  },
  {
   "cell_type": "code",
   "execution_count": 3,
   "metadata": {},
   "outputs": [
    {
     "name": "stdout",
     "output_type": "stream",
     "text": [
      "[] []\n"
     ]
    }
   ],
   "source": [
    "titles, authors = get_title_author(link_template)\n",
    "print(titles, authors)"
   ]
  },
  {
   "cell_type": "code",
   "execution_count": 4,
   "metadata": {},
   "outputs": [
    {
     "name": "stdout",
     "output_type": "stream",
     "text": [
      "0 0\n"
     ]
    }
   ],
   "source": [
    "print(len(titles), len(authors))\n"
   ]
  },
  {
   "cell_type": "code",
   "execution_count": 5,
   "metadata": {},
   "outputs": [],
   "source": [
    "def graph_mask(title):\n",
    "    t = title.lower()\n",
    "    conditions = ['graph neural networks', 'gnns', 'gnn', 'graph', 'graph learning', 'graph embedding', 'network embedding']\n",
    "    return np.any([c in t for c in conditions])"
   ]
  },
  {
   "cell_type": "code",
   "execution_count": 6,
   "metadata": {},
   "outputs": [],
   "source": [
    "with open(f'2025-ICML.txt', 'w', encoding='utf8') as fw:\n",
    "    for t, n in zip(titles, authors):\n",
    "        if graph_mask(t):\n",
    "            fw.write(f'1. **{t}**\\n\\n')\n",
    "            fw.write(f'    *{n}*\\n\\n')"
   ]
  },
  {
   "cell_type": "code",
   "execution_count": null,
   "metadata": {},
   "outputs": [],
   "source": []
  }
 ],
 "metadata": {
  "kernelspec": {
   "display_name": "py39",
   "language": "python",
   "name": "python3"
  },
  "language_info": {
   "codemirror_mode": {
    "name": "ipython",
    "version": 3
   },
   "file_extension": ".py",
   "mimetype": "text/x-python",
   "name": "python",
   "nbconvert_exporter": "python",
   "pygments_lexer": "ipython3",
   "version": "3.9.18"
  },
  "orig_nbformat": 4
 },
 "nbformat": 4,
 "nbformat_minor": 2
}
