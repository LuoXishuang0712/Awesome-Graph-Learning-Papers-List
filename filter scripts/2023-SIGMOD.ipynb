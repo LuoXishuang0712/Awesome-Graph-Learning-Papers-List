{
 "cells": [
  {
   "cell_type": "code",
   "execution_count": 1,
   "metadata": {},
   "outputs": [],
   "source": [
    "from bs4 import BeautifulSoup\n",
    "import logging\n",
    "import numpy as np\n",
    "import pandas as pd\n",
    "import requests\n",
    "from tqdm import tqdm"
   ]
  },
  {
   "cell_type": "code",
   "execution_count": 2,
   "metadata": {},
   "outputs": [],
   "source": [
    "link_template = 'https://dblp.org/db/conf/sigmod/sigmod2024c.html'\n",
    "def get_title_author(link):\n",
    "    resp = requests.get(link, proxies=None)\n",
    "    soup = BeautifulSoup(resp.content, 'html.parser')\n",
    "    uls = soup.find_all('ul', class_='publ-list')\n",
    "    titles, authors = [], []\n",
    "    for ul in uls[2:]:  # 遍历所有 ul\n",
    "        articles = ul.find_all('li', class_='entry inproceedings')  # 找到当前 ul 下的所有 li\n",
    "        print(f\"Found {len(articles)} articles in one ul.\")\n",
    "        for li in articles:\n",
    "            title = li.find('span', class_='title').text\n",
    "            author_list = [a.text for a in li.find_all('span', itemprop='name')]\n",
    "\n",
    "            titles.append(title)\n",
    "            authors.append(\", \".join(author_list[:-1]))\n",
    "\n",
    "    return titles, authors"
   ]
  },
  {
   "cell_type": "code",
   "execution_count": 3,
   "metadata": {},
   "outputs": [
    {
     "name": "stdout",
     "output_type": "stream",
     "text": [
      "Found 6 articles in one ul.\n",
      "Found 6 articles in one ul.\n",
      "Found 5 articles in one ul.\n",
      "Found 5 articles in one ul.\n",
      "Found 5 articles in one ul.\n",
      "Found 5 articles in one ul.\n",
      "Found 15 articles in one ul.\n",
      "Found 14 articles in one ul.\n",
      "Found 2 articles in one ul.\n",
      "Found 13 articles in one ul.\n",
      "Found 11 articles in one ul.\n",
      "['Apache Arrow DataFusion: A Fast, Embeddable, Modular Analytic Query Engine.', 'Unified Query Optimization in the Fabric Data Warehouse.', 'Measures in SQL.', \"ByteCard: Enhancing ByteDance's Data Warehouse with Learned Cardinality Estimation.\", 'Automated Multidimensional Data Layouts in Amazon Redshift.', 'Automated Clustering Recommendation With Database Zone Maps.', 'Similarity Joins of Sparse Features.', 'FinSQL: Model-Agnostic LLMs-based Text-to-SQL Framework for Financial Analysis.', 'Rock: Cleaning Data by Embedding ML in Logic Rules.', 'Data-Juicer: A One-Stop Data Processing System for Large Language Models.', 'The Hopsworks Feature Store for Machine Learning.', 'COSMO: A Large-Scale E-commerce Common Sense Knowledge Generation and Serving System at Amazon.', 'LETUS: A Log-Structured Efficient Trusted Universal BlockChain Storage.', 'Vortex: A Stream-oriented Storage Engine For Big Data Analytics.', 'Native Cloud Object Storage in Db2 Warehouse: Implementing a Fast and Cost-Efficient Cloud Storage Architecture.', 'ESTELLE: An Efficient and Cost-effective Cloud Log Engine.', 'TimeCloth: Fast Point-in-Time Database Recovery in The Cloud.', 'Proactive Resume and Pause of Resources for Microsoft Azure SQL Database Serverless.', 'Vertically Autoscaling Monolithic Applications with CaaSPER: Scalable Container-as-a-Service Performance Enhanced Resizing Algorithm for the Cloud.', 'Flux: Decoupled Auto-Scaling for Heterogeneous Query Workload in Alibaba AnalyticDB.', 'Intelligent Scaling in Amazon Redshift.', 'Stage: Query Execution Time Prediction in Amazon Redshift.', 'PolarDB-MP: A Multi-Primary Cloud-Native Database via Disaggregated Shared Memory.', 'Amazon MemoryDB: A Fast and Durable Memory-First Cloud Database.', 'Extending Polaris to Support Transactions.', \"BigLake: BigQuery's Evolution toward a Multi-Cloud Lakehouse.\", 'Predicate Caching: Query-Driven Secondary Indexing for Cloud Data Warehouses.', 'BG3: A Cost Effective and I/O Efficient Graph Database in Bytedance.', 'PG-Triggers: Triggers for Property Graphs.', 'GraphScope Flex: LEGO-like Graph Computing Stack.', 'Bouncer: Admission Control with Response Time Objectives for Low-latency Online Data Systems.', 'NPA: Improving Large-scale Graph Neural Networks with Non-parametric Attention.', 'Demonstration of Ver: View Discovery in the Wild.', 'Comquest: Large Scale User Comment Crawling and Integration.', 'QueryShield: Cryptographically Secure Analytics in the Cloud.', 'SIERRA: A Counterfactual Thinking-based Visual Interface for Property Graph Query Construction.', 'Sawmill: From Logs to Causal Diagnosis of Large Systems.', 'Demonstrating REmatch: A Novel RegEx Engine for Finding all Matches.', 'ASQP-RL Demo: Learning Approximation Sets for Exploratory Queries.', 'IMBridge: Impedance Mismatch Mitigation between Database Engine and Prediction Query Execution.', 'ASM in Action: Fast and Practical Learned Cardinality Estimation.', 'The Game Of Recourse: Simulating Algorithmic Recourse over Time to Improve Its Reliability and Fairness.', 'RobOpt: A Tool for Robust Workload Optimization Based on Uncertainty-Aware Machine Learning.', 'Demonstrating CAESURA: Language Models as Multi-Modal Query Planners.', 'Demonstration of Udon: Line-by-line Debugging of User-Defined Functions in Data Workflows.', 'UniTS: A Universal Time Series Analysis Framework Powered by Self-Supervised Representation Learning.', 'ChatPipe: Orchestrating Data Preparation Pipelines by Optimizing Human-ChatGPT Interactions.', 'Responsible Model Selection with Virny and VirnyView.', 'Property Graph Stream Processing In Action with Seraph.', 'MillenniumDB: A Multi-modal, Multi-model Graph Database.', 'IDE: A System for Iterative Mislabel Detection.', 'A Demonstration of GPTuner: A GPT-Based Manual-Reading Database Tuning System.', 'Demonstrating λ-Tune: Exploiting Large Language Models for Workload-Adaptive Database System Tuning.', 'User-friendly, Interactive, and Configurable Explanations for Graph Neural Networks with Graph Views.', 'OpenIVM: a SQL-to-SQL Compiler for Incremental Computations.', 'Building Reactive Large Language Model Pipelines with Motion.', 'Demonstrating Nexus for Correlation Discovery over Collections of Spatio-Temporal Tabular Data.', 'PLUTUS: Understanding Data Distribution Tailoring for Machine Learning.', 'Multi-Backend Zonal Statistics Execution with Raven.', \"ShiftScope: Adapting Visualization Recommendations to Users' Dynamic Data Focus.\", 'Demonstration of ElasticNotebook: Migrating Live Computational Notebook States.', 'The Future of Graph Analytics.', 'AI for Systems.', 'Demystifying Data Management for Large Language Models.', 'SmartNICs in the Cloud: The Why, What and How of In-network Processing for Data-Intensive Applications.', 'Learned Query Optimizer: What is New and What is Next.', 'Distributed Transaction Processing in Untrusted Environments.', 'Responsible Sharing of Spatiotemporal Data.', 'Querying Graph Databases at Scale.', 'Cognitive Psychology Meets Data Management: State of the Art and Future Directions.', 'Vector Database Management Techniques and Systems.', 'An Overview of Continuous Querying in (Modern) Data Systems.', 'SIMDified Data Processing - Foundations, Abstraction, and Advanced Techniques.', 'Machine Learning for Databases: Foundations, Paradigms, and Open problems.', 'Applications and Computation of the Shapley Value in Databases and Machine Learning.', 'Beyond Bloom: A Tutorial on Future Feature-Rich Filters.', 'International Workshop on Data Management on New Hardware (DaMoN).', 'Second Workshop on Simplicity in Management of Data (SiMoD).', 'Seventh International Workshop on Exploiting Artificial Intelligence Techniques for Data Management (aiDM).', 'Eighth Workshop on Data Management for End-to-End Machine Learning (DEEM).', \"GRADES-NDA'24: 7th Joint Workshop on Graph Data Management Experiences & Systems (GRADES) and Network Data Analytics (NDA).\", 'Fourth International Workshop on Big Data in Emergent Distributed Environments (BiDEDE).', 'Eighth Workshop on Human-In-the-Loop Data Analytics (HILDA).', \"Third International Workshop on Data Systems Education (DataEd'24).\", 'First Workshop on Governance, Understanding and Integration of Data for Effective and Responsible AI (GUIDE-AI).', 'First Workshop on Quantum Computing and Quantum-Inspired Technology for Data-Intensive Systems and Applications (Q-Data).', 'Tenth International Workshop on Testing Database Systems (DBTest).'] ['Andrew Lamb, Yijie Shen, Daniël Heres, Jayjeet Chakraborty, Mehmet Ozan Kabak, Liang-Chi Hsieh, Chao Sun', 'Nicolas Bruno, César A. Galindo-Legaria, Milind Joshi, Esteban Calvo Vargas, Kabita Mahapatra, Sharon Ravindran, Guoheng Chen, Ernesto Cervantes Juárez, Beysim Sezgin', 'Julian Hyde, John Fremlin', 'Yuxing Han, Haoyu Wang, Lixiang Chen, Yifeng Dong, Xing Chen, Benquan Yu, Chengcheng Yang, Weining Qian', 'Jialin Ding, Matt Abrams, Sanghita Bandyopadhyay, Luciano Di Palma, Yanzhu Ji, Davide Pagano, Gopal Paliwal, Panos Parchas, Pascal Pfeil, Orestis Polychroniou, Gaurav Saxena, Aamer Shah, Amina Voloder, Sherry Xiao, Davis Zhang, Tim Kraska', 'Suratna Budalakoti, Mohamed Ziauddin, Andrew Witkowski, You Jung Kim, Ramarajan Krishnamachari, Alan Wood', 'Ahmed Metwally, Michael Shum', 'Chao Zhang, Yuren Mao, Yijiang Fan, Yu Mi, Yunjun Gao, Lu Chen, Dongfang Lou, Jinshu Lin', 'Xianchun Bao, Zian Bao, Bie Binbin, Qingsong Duan, Wenfei Fan, Hui Lei, Daji Li, Wei Lin, Peng Liu, Zhicong Lv, Mingliang Ouyang, Shuai Tang, Yaoshu Wang, Qiyuan Wei, Min Xie, Jing Zhang, Xin Zhang, Runxiao Zhao, Shuping Zhou', 'Daoyuan Chen, Yilun Huang, Zhijian Ma, Hesen Chen, Xuchen Pan, Ce Ge, Dawei Gao, Yuexiang Xie, Zhaoyang Liu, Jinyang Gao, Yaliang Li, Bolin Ding, Jingren Zhou', 'Javier de la Rúa Martínez, Fabio Buso, Antonios Kouzoupis, Alexandru A. Ormenisan, Salman Niazi, Davit Bzhalava, Kenneth Mak, Victor Jouffrey, Mikael Ronström, Raymond Cunningham, Ralfs Zangis, Dhananjay Mukhedkar, Ayushman Khazanchi, Vladimir Vlassov, Jim Dowling', 'Changlong Yu, Xin Liu, Jefferson Maia, Yang Li, Tianyu Cao, Yifan Gao, Yangqiu Song, Rahul Goutam, Haiyang Zhang, Bing Yin, Zheng Li', 'Shikun Tian, Zhonghao Lu, Haizhen Zhuo, Xiaojing Tang, Peiyi Hong, Shenglong Chen, Dayi Yang, Ying Yan, Zhiyong Jiang, Hui Zhang, Guofei Jiang', 'Pavan Edara, Jonathan Forbesj, Bigang Li', 'David Kalmuk, Christian Garcia-Arellano, Ronald Barber, Richard Sidle, Kostas Rakopoulos, Hamdi Roumani, William Minor, Alexander Cheung, Robert C. Hooper, Matthew Emmerton, Zach Hoggard, Scott Walkty, Patrick Pérez, Aleksandrs Santars, Michael Chen, Matthew Olan, Daniel C. Zilio, Imran Sayyid, Humphrey Li, Ketan Rampurkar, Krishna K. Ramachandran, Yiren Shen', 'Yupu Zhang, Guanglin Cong, Jihan Qu, Ran Xu, Yuan Fu, Weiqi Li, Feiran Hu, Jing Liu, Wenliang Zhang, Kai Zheng', 'Jianjun Deng, Jianan Lu, Hua Fan, Chaoyang Liu, Shi Cheng, Cuiyun Fu, Wenchao Zhou', 'Olga Poppe, Pankaj Arora, Sakshi Sharma, Jie Chen, Sachin Pandit, Rahul Sawhney, Vaishali Jhalani, Willis Lang, Qun Guo, Anupriya Inumella, Sanjana Dulipeta Sridhar, Dheren Gala, Nilesh Rathi, Morgan Oslake, Alexandru Chirica, Sarika Iyer, Prateek Goel, Ajay Kalhan', 'Anna Pavlenko, Joyce Cahoon, Yiwen Zhu, Brian Kroth, Michael Nelson, Andrew Carter, David Liao, Travis Wright, Jesús Camacho-Rodríguez, Karla Saur', 'Wei Li, Jiachi Zhang, Ye Yin, Yan Li, Zhanyang Zhu, Wenchao Zhou, Liang Lin, Feifei Li', 'Vikram Nathan, Vikramank Y. Singh, Zhengchun Liu, Mohammad Rahman, Andreas Kipf, Dominik Horn, Davide Pagano, Gaurav Saxena, Balakrishnan Narayanaswamy, Tim Kraska', 'Ziniu Wu, Ryan Marcus, Zhengchun Liu, Parimarjan Negi, Vikram Nathan, Pascal Pfeil, Gaurav Saxena, Mohammad Rahman, Balakrishnan Narayanaswamy, Tim Kraska', 'Xinjun Yang, Yingqiang Zhang, Hao Chen, Feifei Li, Bo Wang, Jing Fang, Chuan Sun, Yuhui Wang', 'Yacine Taleb, Kevin McGehee, Nan Yan, Shawn Wang, Stefan C. Müller, Allen Samuels', \"Josep Aguilar-Saborit, Raghu Ramakrishnan, Kevin Bocksrocker, Alan Halverson, Konstantin Kosinsky, Ryan O'Connor, Nadejda Poliakova, Moe Shafiei, Haris Mahmood Ansari, Bogdan Crivat, Conor Cunningham, Taewoo Kim, Phil Kon-Kim, Ishan Rajesh Madan, Blazej Matuszyk, Matt Miles, Sumin Mohanan, Cristian Petculescu, Emma Rose-Wirshing, Elias Yousefi, Amin Abadi\", 'Justin J. Levandoski, Garrett Casto, Mingge Deng, Rushabh Desai, Pavan Edara, Thibaud Hottelier, Amir Hormati, Anoop Johnson, Jeff Johnson, Dawid Kurzyniec, Sam McVeety, Prem Ramanathan, Gaurav Saxena, Vidya Shanmugan, Yuri Volobuev', 'Tobias Schmidt, Andreas Kipf, Dominik Horn, Gaurav Saxena, Tim Kraska', 'Wei Zhang, Cheng Chen, Qiange Wang, Wei Wang, Shijiao Yang, Bingyu Zhou, Huiming Zhu, Chao Chen, Yongjun Zhao, Yingqian Hu, Miaomiao Cheng, Meng Li, Hongfei Tan, Mengjin Liu, Hexiang Lin, Shuai Zhang, Lei Zhang', 'Stefano Ceri, Anna Bernasconi, Alessia Gagliardi, Davide Martinenghi, Luigi Bellomarini, Davide Magnanimi', 'Tao He, Shuxian Hu, Longbin Lai, Dongze Li, Neng Li, Xue Li, Lexiao Liu, Xiaojian Luo, Bingqing Lyu, Ke Meng, Sijie Shen, Li Su, Lei Wang, Jingbo Xu, Wenyuan Yu, Weibin Zeng, Lei Zhang, Siyuan Zhang, Jingren Zhou, Xiaoli Zhou, Diwen Zhu', 'Hao Xu, Juan A. Colmenares', 'Wentao Zhang, Guochen Yan, Yu Shen, Ling Yang, Yangyu Tao, Bin Cui, Jian Tang', 'Kevin Dharmawan, Chirag A. Kawediya, Yue Gong, Zaki Indra Yudhistira, Zhiru Zhu, Sainyam Galhotra, Adila Alfa Krisnadhi, Raul Castro Fernandez', 'Zhijia Chen, Lihong He, Arjun Mukherjee, Eduard C. Dragut', 'Ethan Seow, Yan Tong, Eli Baum, Sam Buxbaum, Muhammad Faisal, John Liagouris, Vasiliki Kalavri, Mayank Varia', 'Jiebing Ma, Sourav S. Bhowmick, Lester Tay, Byron Choi', 'Markos Markakis, An Bo Chen, Brit Youngmann, Trinity Gao, Ziyu Zhang, Rana Shahout, Peter Baile Chen, Chunwei Liu, Ibrahim Sabek, Michael J. Cafarella', 'Kyle Bossonney, Vicente Calisto, Cristian Riveros, Gustavo Toro, Nicolás Van Sint Jan, Domagoj Vrgoc', 'Susan B. Davidson, Tova Milo, Kathy Razmadze, Gal Zeevi', 'Chenyang Zhang, Junxiong Peng, Chen Xu, Quanqing Xu, Chuanhui Yang', 'Sangoh Lee, Kyoungmin Kim, Wook-Shin Han', 'Andrew Bell, João Fonseca, Julia Stoyanovich', 'Amin Kamali, Verena Kantere, Calisto Zuzarte, Vincent Corvinelli', 'Matthias Urban, Carsten Binnig', 'Yicong Huang, Zuozhi Wang, Chen Li', 'Zhiyu Liang, Chen Liang, Zheng Liang, Hongzhi Wang, Bo Zheng', 'Sibei Chen, Hanbing Liu, Waiting Jin, Xiangyu Sun, Xiaoyao Feng, Ju Fan, Xiaoyong Du, Nan Tang', 'Denys Herasymuk, Falaah Arif Khan, Julia Stoyanovich', 'Riccardo Tommasini, Christopher Rost, Angela Bonifati, Emanuele Della Valle, Erhard Rahm, Keith W. Hare, Stefan Plantikow, Petra Selmer, Hannes Voigt', 'Domagoj Vrgoc, Carlos Rojas, Renzo Angles, Marcelo Arenas, Vicente Calisto, Benjamín Farias, Sebastián Ferrada, Tristan Heuer, Aidan Hogan, Gonzalo Navarro, Alexander Pinto, Juan L. Reutter, Henry Rosales-Méndez, Etienne Toussaint', 'Yuhao Deng, Deng Qiyan, Chengliang Chai, Lei Cao, Nan Tang, Ju Fan, Jiayi Wang, Ye Yuan, Guoren Wang', 'Jiale Lao, Yibo Wang, Yufei Li, Jianping Wang, Yunjia Zhang, Zhiyuan Cheng, Wanghu Chen, Yuanchun Zhou, Mingjie Tang, Jianguo Wang', 'Victor Giannakouris, Immanuel Trummer', 'Tingyang Chen, Dazhuo Qiu, Yinghui Wu, Arijit Khan, Xiangyu Ke, Yunjun Gao', 'Ilaria Battiston, Kriti Kathuria, Peter A. Boncz', 'Shreya Shankar, Aditya G. Parameswaran', 'Yue Gong, Raul Castro Fernandez', 'Jiwon Chang, Christina Dionysio, Fatemeh Nargesian, Matthias Boehm', 'Gereon Dusella, Haralampos Gavriilidis, Laert Nuhu, Volker Markl, Eleni Tzirita Zacharatou', 'Sanad Saha, Nischal Aryal, Leilani Battle, Arash Termehchy', 'Zhaoheng Li, Supawit Chockchowwat, Hanxi Fang, Ribhav Sahu, Sumay Thakurdesai, Kantanat Pridaphatrakun, Yongjoo Park', 'Angela Bonifati, M. Tamer Özsu, Yuanyuan Tian, Hannes Voigt, Wenyuan Yu, Wenjie Zhang', 'Carlo Curino, Raghu Ramakrishnan', 'Xupeng Miao, Zhihao Jia, Bin Cui', 'Faeze Faghih, Tobias Ziegler, Zsolt István, Carsten Binnig', 'Rong Zhu, Lianggui Weng, Bolin Ding, Jingren Zhou', 'Mohammad Javad Amiri, Divyakant Agrawal, Amr El Abbadi, Boon Thau Loo', 'Raul Castro Fernandez, Arnab Nandi', 'Aidan Hogan, Domagoj Vrgoc', 'Sourav S. Bhowmick, S. H. Annabel Chen, Divesh Srivastava', 'James Jie Pan, Jianguo Wang, Guoliang Li', 'Angela Bonifati, Riccardo Tommasini', 'Dirk Habich, Johannes Pietrzyk', 'Gao Cong, Jingyi Yang, Yue Zhao', 'Xuan Luo, Jian Pei', 'Prashant Pandey, Martín Farach-Colton, Niv Dayan, Huanchen Zhang', 'Carsten Binnig, Nesime Tatbul', 'Danica Porobic, Tianzheng Wang', 'Rajesh Bordawekar, Oded Shmueli, Yael Amsterdamer, Renata Borovica-Gajic, Donatella Firmani', 'Madelon Hulsebos, Matteo Interlandi, Shreya Shankar', 'Olaf Hartig, Zoi Kaoudi', 'Philippe Cudré-Mauroux, Andrea Ko, Robert Wrembel', 'Jean-Daniel Fekete, Kexin Rong, Behrooz Omidvar-Tehrani, Roee Shraga', 'Daphne Miedema, Sourav S. Bhowmick, Michael Liut', 'Abolfazl Asudeh, Sainyam Galhotra, Amir Gilad, Babak Salimi, Brit Youngmann', 'Ibrahim Sabek, Immanuel Trummer, Stefan Prestel', 'Anja Gruenheid, Manuel Rigger']\n",
      "Apache Arrow DataFusion: A Fast, Embeddable, Modular Analytic Query Engine. Andrew Lamb, Yijie Shen, Daniël Heres, Jayjeet Chakraborty, Mehmet Ozan Kabak, Liang-Chi Hsieh, Chao Sun\n"
     ]
    }
   ],
   "source": [
    "titles, authors = get_title_author(link_template)\n",
    "print(titles, authors)\n",
    "print(titles[0], authors[0])"
   ]
  },
  {
   "cell_type": "code",
   "execution_count": 4,
   "metadata": {},
   "outputs": [
    {
     "name": "stdout",
     "output_type": "stream",
     "text": [
      "87 87\n"
     ]
    }
   ],
   "source": [
    "print(len(titles), len(authors))\n"
   ]
  },
  {
   "cell_type": "code",
   "execution_count": 5,
   "metadata": {},
   "outputs": [],
   "source": [
    "def graph_mask(title):\n",
    "    t = title.lower()\n",
    "    conditions = ['graph neural networks', 'gnns', 'gnn', 'graph', 'graph learning', 'graph embedding', 'network embedding']\n",
    "    return np.any([c in t for c in conditions])"
   ]
  },
  {
   "cell_type": "code",
   "execution_count": 6,
   "metadata": {},
   "outputs": [],
   "source": [
    "with open(f'2024-SIGMOD.txt', 'w', encoding='utf8') as fw:\n",
    "    for t, n in zip(titles, authors):\n",
    "        if graph_mask(t):\n",
    "            fw.write(f'1. **{t}**\\n\\n')\n",
    "            fw.write(f'    *{n}*\\n\\n')"
   ]
  },
  {
   "cell_type": "code",
   "execution_count": null,
   "metadata": {},
   "outputs": [],
   "source": []
  },
  {
   "cell_type": "code",
   "execution_count": null,
   "metadata": {},
   "outputs": [],
   "source": []
  },
  {
   "cell_type": "code",
   "execution_count": null,
   "metadata": {},
   "outputs": [],
   "source": []
  }
 ],
 "metadata": {
  "kernelspec": {
   "display_name": "py39",
   "language": "python",
   "name": "python3"
  },
  "language_info": {
   "codemirror_mode": {
    "name": "ipython",
    "version": 3
   },
   "file_extension": ".py",
   "mimetype": "text/x-python",
   "name": "python",
   "nbconvert_exporter": "python",
   "pygments_lexer": "ipython3",
   "version": "3.9.18"
  },
  "orig_nbformat": 4
 },
 "nbformat": 4,
 "nbformat_minor": 2
}
