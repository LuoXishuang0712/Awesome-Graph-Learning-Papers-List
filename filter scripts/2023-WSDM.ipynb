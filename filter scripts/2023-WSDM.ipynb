{
 "cells": [
  {
   "cell_type": "code",
   "execution_count": 1,
   "metadata": {},
   "outputs": [],
   "source": [
    "from bs4 import BeautifulSoup\n",
    "import logging\n",
    "import numpy as np\n",
    "import pandas as pd\n",
    "import requests\n",
    "from tqdm import tqdm"
   ]
  },
  {
   "cell_type": "code",
   "execution_count": 21,
   "metadata": {},
   "outputs": [],
   "source": [
    "link_template = 'https://dblp.org/db/conf/wsdm/wsdm2024.html'\n",
    "def get_title_author(link):\n",
    "    resp = requests.get(link, proxies=None)\n",
    "    soup = BeautifulSoup(resp.content, 'html.parser')\n",
    "    uls = soup.find_all('ul', class_='publ-list')\n",
    "    titles, authors = [], []\n",
    "    for ul in uls[2:]:  # 遍历所有 ul\n",
    "        articles = ul.find_all('li', class_='entry inproceedings')  # 找到当前 ul 下的所有 li\n",
    "        print(f\"Found {len(articles)} articles in one ul.\")\n",
    "        for li in articles:\n",
    "            title = li.find('span', class_='title').text\n",
    "            author_list = [a.text for a in li.find_all('span', itemprop='name')]\n",
    "\n",
    "            titles.append(title)\n",
    "            authors.append(\", \".join(author_list[:-1]))\n",
    "\n",
    "    return titles, authors"
   ]
  },
  {
   "cell_type": "code",
   "execution_count": 22,
   "metadata": {},
   "outputs": [
    {
     "name": "stdout",
     "output_type": "stream",
     "text": [
      "Found 109 articles in one ul.\n",
      "Found 17 articles in one ul.\n",
      "Found 7 articles in one ul.\n",
      "Found 9 articles in one ul.\n",
      "Found 16 articles in one ul.\n",
      "Found 6 articles in one ul.\n",
      "Found 6 articles in one ul.\n",
      "['Let the LLMs Talk: Simulating Human-to-Human Conversational QA via Zero-Shot LLM-to-LLM Interactions.', 'IDoFew: Intermediate Training Using Dual-Clustering in Language Models for Few Labels Text Classification.', 'LabelCraft: Empowering Short Video Recommendations with Automated Label Crafting.', 'MAD: Multi-Scale Anomaly Detection in Link Streams.', 'Ranking with Long-Term Constraints.', 'LMBot: Distilling Graph Knowledge into Language Model for Graph-less Deployment in Twitter Bot Detection.', 'To Copy, or not to Copy; That is a Critical Issue of the Output Softmax Layer in Neural Sequential Recommenders.', 'PEFA: Parameter-Free Adapters for Large-scale Embedding-based Retrieval Models.', 'Empathetic Response Generation with Relation-aware Commonsense Knowledge.', 'Professional Network Matters: Connections Empower Person-Job Fit.', 'Towards Mitigating Dimensional Collapse of Representations in Collaborative Filtering.', 'TemporalMed: Advancing Medical Dialogues with Time-Aware Responses in Large Language Models.', 'Exploiting Duality in Open Information Extraction with Predicate Prompt.', 'Customized and Robust Deep Neural Network Watermarking.', 'Overlapping and Robust Edge-Colored Clustering in Hypergraphs.', 'CroSSL: Cross-modal Self-Supervised Learning for Time-series through Latent Masking.', 'K2: A Foundation Language Model for Geoscience Knowledge Understanding and Utilization.', 'CL4DIV: A Contrastive Learning Framework for Search Result Diversification.', 'TTC-QuAli: A Text-Table-Chart Dataset for Multimodal Quantity Alignment.', 'Guardian: Guarding against Gradient Leakage with Provable Defense for Federated Learning.', 'Contextual MAB Oriented Embedding Denoising for Sequential Recommendation.', 'Exploring Adapter-based Transfer Learning for Recommender Systems: Empirical Studies and Practical Insights.', 'DeSCo: Towards Generalizable and Scalable Deep Subgraph Counting.', 'PEACE: Prototype lEarning Augmented transferable framework for Cross-domain rEcommendation.', 'CausalMMM: Learning Causal Structure for Marketing Mix Modeling.', 'Calibration-compatible Listwise Distillation of Privileged Features for CTR Prediction.', 'Motif-based Prompt Learning for Universal Cross-domain Recommendation.', 'User Behavior Enriched Temporal Knowledge Graphs for Sequential Recommendation.', 'User Consented Federated Recommender System Against Personalized Attribute Inference Attack.', 'SCAD: Subspace Clustering based Adversarial Detector.', 'From Second to First: Mixed Censored Multi-Task Learning for Winning Price Prediction.', 'Incomplete Graph Learning via Attribute-Structure Decoupled Variational Auto-Encoder.', 'DiffKG: Knowledge Graph Diffusion Model for Recommendation.', 'Robust Training for Conversational Question Answering Models with Reinforced Reformulation Generation.', 'MONET: Modality-Embracing Graph Convolutional Network and Target-Aware Attention for Multimedia Recommendation.', 'C²DR: Robust Cross-Domain Recommendation based on Causal Disentanglement.', 'Likelihood-Based Methods Improve Parameter Estimation in Opinion Dynamics Models.', 'Multi-Intent Attribute-Aware Text Matching in Searching.', 'Text-Video Retrieval via Multi-Modal Hypergraph Networks.', 'CDRNP: Cross-Domain Recommendation to Cold-Start Users via Neural Process.', 'Global Heterogeneous Graph and Target Interest Denoising for Multi-behavior Sequential Recommendation.', 'Inverse Learning with Extremely Sparse Feedback for Recommendation.', 'Mixed Attention Network for Cross-domain Sequential Recommendation.', 'Multi-Sequence Attentive User Representation Learning for Side-information Integrated Sequential Recommendation.', 'Pre-trained Recommender Systems: A Causal Debiasing Perspective.', 'MultiFS: Automated Multi-Scenario Feature Selection in Deep Recommender Systems.', 'Capturing Temporal Node Evolution via Self-supervised Learning: A New Perspective on Dynamic Graph Learning.', 'ONCE: Boosting Content-based Recommendation with Both Open- and Closed-source Large Language Models.', 'Knowledge Graph Context-Enhanced Diversified Recommendation.', 'Interact with the Explanations: Causal Debiased Explainable Recommendation System.', 'Attribute Simulation for Item Embedding Enhancement in Multi-interest Recommendation.', 'Generative Models for Complex Logical Reasoning over Knowledge Graphs.', 'MADM: A Model-agnostic Denoising Module for Graph-based Social Recommendation.', 'Leveraging Multimodal Features and Item-level User Feedback for Bundle Construction.', 'Source Free Graph Unsupervised Domain Adaptation.', 'A Linguistic Grounding-Infused Contrastive Learning Approach for Health Mention Classification on Social Media.', 'RecJPQ: Training Large-Catalogue Sequential Recommenders.', 'Intent Contrastive Learning with Cross Subsequences for Sequential Recommendation.', 'Budgeted Embedding Table For Recommender Systems.', 'SSLRec: A Self-Supervised Learning Framework for Recommendation.', 'GAD-NR: Graph Anomaly Detection via Neighborhood Reconstruction.', 'Ad-load Balancing via Off-policy Learning in a Content Marketplace.', 'ProGAP: Progressive Graph Neural Networks with Differential Privacy Guarantees.', 'Fly-Swat or Cannon? Cost-Effective Language Model Choice via Meta-Modeling.', 'Proxy-based Item Representation for Attribute and Context-aware Recommendation.', 'Causality Guided Disentanglement for Cross-Platform Hate Speech Detection.', 'Long-Term Value of Exploration: Measurements, Findings and Algorithms.', 'Table Meets LLM: Can Large Language Models Understand Structured Table Data? A Benchmark and Empirical Study.', 'LEAD: Liberal Feature-based Distillation for Dense Retrieval.', 'Rethinking and Simplifying Bootstrapped Graph Latents.', 'A Multi-Granularity-Aware Aspect Learning Model for Multi-Aspect Dense Retrieval.', 'Temporal Blind Spots in Large Language Models.', 'Efficient, Direct, and Restricted Black-Box Graph Evasion Attacks to Any-Layer Graph Neural Networks via Influence Function.', 'CityCAN: Causal Attention Network for Citywide Spatio-Temporal Forecasting.', 'Distribution Consistency based Self-Training for Graph Neural Networks with Sparse Labels.', 'FairIF: Boosting Fairness in Deep Learning via Influence Functions with Validation Set Sensitive Attributes.', 'NeuralReconciler for Hierarchical Time Series Forecasting.', 'Dynamic Sparse Learning: A Novel Paradigm for Efficient Recommendation.', 'Follow the LIBRA: Guiding Fair Policy for Unified Impression Allocation via Adversarial Rewarding.', 'Not All Negatives Are Worth Attending to: Meta-Bootstrapping Negative Sampling Framework for Link Prediction.', 'Towards Better Chinese Spelling Check for Search Engines: A New Dataset and Strong Baseline.', 'Diff-MSR: A Diffusion Model Enhanced Paradigm for Cold-Start Multi-Scenario Recommendation.', 'Cost-Effective Active Learning for Bid Exploration in Online Advertising.', 'AutoPooling: Automated Pooling Search for Multi-valued Features in Recommendations.', 'LLMRec: Large Language Models with Graph Augmentation for Recommendation.', 'Unified Visual Preference Learning for User Intent Understanding.', 'Continuous-time Autoencoders for Regular and Irregular Time Series Imputation.', 'Neural Kalman Filtering for Robust Temporal Recommendation.', 'Deep Evolutional Instant Interest Network for CTR Prediction in Trigger-Induced Recommendation.', 'On the Effectiveness of Unlearning in Session-Based Recommendation.', 'Hierarchical Multimodal Pre-training for Visually Rich Webpage Understanding.', 'Towards Alignment-Uniformity Aware Representation in Graph Contrastive Learning.', 'Debiasing Sequential Recommenders through Distributionally Robust Optimization over System Exposure.', 'Unified Pretraining for Recommendation via Task Hypergraphs.', 'GAP: A Grammar and Position-Aware Framework for Efficient Recognition of Multi-Line Mathematical Formulas.', 'COTER: Conditional Optimal Transport meets Table Retrieval.', 'PhoGAD: Graph-based Anomaly Behavior Detection with Persistent Homology Optimization.', 'Linear Recurrent Units for Sequential Recommendation.', 'IncMSR: An Incremental Learning Approach for Multi-Scenario Recommendation.', 'Defense Against Model Extraction Attacks on Recommender Systems.', 'Maximizing Malicious Influence in Node Injection Attack.', 'Interpretable Imitation Learning with Dynamic Causal Relations.', 'RDGCN: Reinforced Dependency Graph Convolutional Network for Aspect-based Sentiment Analysis.', 'CreST: A Credible Spatiotemporal Learning Framework for Uncertainty-aware Traffic Forecasting.', 'Pitfalls in Link Prediction with Graph Neural Networks: Understanding the Impact of Target-link Inclusion & Better Practices.', 'Collaboration and Transition: Distilling Item Transitions into Multi-Query Self-Attention for Sequential Recommendation.', 'The Devil is in the Data: Learning Fair Graph Neural Networks via Partial Knowledge Distillation.', 'Dance with Labels: Dual-Heterogeneous Label Graph Interaction for Multi-intent Spoken Language Understanding.', 'MultiSPANS: A Multi-range Spatial-Temporal Transformer Network for Traffic Forecast via Structural Entropy Optimization.', 'IAI MovieBot 2.0: An Enhanced Research Platform with Trainable Neural Components and Transparent User Modeling.', 'WordGraph: A Python Package for Reconstructing Interactive Causal Graphical Models from Text Data.', 'CharmBana: Progressive Responses with Real-Time Internet Search for Knowledge-Powered Conversations.', 'GEMRec: Towards Generative Model Recommendation.', 'EvidenceQuest: An Interactive Evidence Discovery System for Explainable Artificial Intelligence.', 'SIRUP: Search-based Book Recommendation Playground.', 'Ginkgo-P: General Illustrations of Knowledge Graphs for Openness as a Platform.', 'Real-time E-bike Route Planning with Battery Range Prediction.', 'An Interpretable Brain Graph Contrastive Learning Framework for Brain Disorder Analysis.', 'Logic-Scaffolding: Personalized Aspect-Instructed Recommendation Explanation Generation using LLMs.', 'Future Timelines: Extraction and Visualization of Future-related Content From News Articles.', 'Temporal Graph Analysis with TGX.', 'Vector Search with OpenAI Embeddings: Lucene Is All You Need.', 'Making Small Language Models Better Multi-task Learners with Mixture-of-Task-Adapters.', 'A Scalable Open-Source System for Segmenting Urban Areas with Road Networks.', 'Domain Level Interpretability: Interpreting Black-box Model with Domain-specific Embedding.', 'Wildfire: A Twitter Social Sensing Platform for Layperson.', 'Some Useful Things to Know When Combining IR and NLP: The Easy, the Hard and the Ugly.', 'Introduction to Responsible AI.', 'Unbiased Learning to Rank: On Recent Advances and Practical Applications.', 'Bridging Text Data and Graph Data: Towards Semantics and Structure-aware Knowledge Discovery.', 'Towards Trustworthy Large Language Models.', \"Strategic ML: How to Learn With Data That 'Behaves'.\", 'Practical Bandits: An Industry Perspective.', 'Leveraging User Simulation to Develop and Evaluate Conversational Information Access Agents.', 'Understanding User Behavior in Carousel Recommendation Systems for Click Modeling and Learning to Rank.', 'Grounded and Transparent Response Generation for Conversational Information-Seeking Systems.', 'Learning Opinion Dynamics from Data.', 'Gaussian Graphical Model-Based Clustering of Time Series Data.', 'Effective and Efficient Transformer Models for Sequential Recommendation.', 'Framework for Bias Detection in Machine Learning Models: A Fairness Approach.', 'Using Causal Inference to Solve Uncertainty Issues in Dataset Shift.', 'Multi-Granular Text Classification with Minimal Supervision.', 'Augmenting Keyword-based Search in Mobile Applications Using LLMs.', 'Applications of LLMs in E-Commerce Search and Product Knowledge Graph: The DoorDash Case Study.', 'Scaling Use-case Based Shopping using LLMs.', 'HealAI: A Healthcare LLM for Effective Medical Documentation.', 'Mitigating Factual Inconsistency and Hallucination in Large Language Models.', 'Recent Advances in Refinement Recommendations.', 'Foundation Models for Aerial Robotics.', 'Scaling Up LLM Reviews for Google Ads Content Moderation.', 'Customer Understanding for Recommender Systems.', '\"Maya\"- A Conversational Shopping Assistant for Fashion at Myntra.', 'Journey of Hallucination-minimized Generative AI Solutions for Financial Decision Makers.', 'Accelerating Pharmacovigilance using Large Language Models.', 'Automated Tailoring of Large Language Models for Industry-Specific Downstream Tasks.', 'Fresh Content Recommendation at Scale: A Multi-funnel Solution and the Potential of LLMs.', 'Lessons Learnt from Building Friend Recommendation Systems.', 'AAGenRec: A Novel Approach for Mitigating Inter-task Interference in Multi-task Optimization of Sequential Behavior Modeling.', 'Automated Topic Generation for the Mexican Platform for Access to Government Public Information During the Period 2003-2020.', 'Genomic-World Fungi Data: Synteny Part.', 'Profiling Urban Mobility Patterns with High Spatial and Temporal Resolution: A Deep Dive into Cellphone Geo-position Data.', 'Integrating Knowledge Graph Data with Large Language Models for Explainable Inference.', 'Preserving Heritage: Developing a Translation Tool for Indigenous Dialects.', 'Automatic Extraction of Patterns in Digital News Articles of Femicides occurred in Mexico by Text Mining Techniques.', 'WSDM 2024 Workshop on Large Language Models for Individuals, Groups, and Society.', 'The 3rd International Workshop on Interactive and Scalable Information Retrieval Methods for eCommerce (ISIR-eCom 2024).', 'The 5th International Workshop on Machine Learning on Graphs (MLoG).', 'Integrity 2024: Integrity in Social Networks and Media.', 'WSDM 2024 Workshop on Representation Learning & Clustering.', 'Psychology-informed Information Access Systems Workshop.'] ['Zahra Abbasiantaeb, Yifei Yuan, Evangelos Kanoulas, Mohammad Aliannejadi', 'Abdullah Alsuhaibani, Hamad Zogan, Imran Razzak, Shoaib Jameel, Guandong Xu', 'Yimeng Bai, Yang Zhang, Jing Lu, Jianxin Chang, Xiaoxue Zang, Yanan Niu, Yang Song, Fuli Feng', 'Esteban Bautista, Laurent Brisson, Cécile Bothorel, Grégory Smits', 'Kianté Brantley, Zhichong Fang, Sarah Dean, Thorsten Joachims', 'Zijian Cai, Zhaoxuan Tan, Zhenyu Lei, Zifeng Zhu, Hongrui Wang, Qinghua Zheng, Minnan Luo', 'Haw-Shiuan Chang, Nikhil Agarwal, Andrew McCallum', 'Wei-Cheng Chang, Jyun-Yu Jiang, Jiong Zhang, Mutasem Al-Darabsah, Choon Hui Teo, Cho-Jui Hsieh, Hsiang-Fu Yu, S. V. N. Vishwanathan', 'Changyu Chen, Yanran Li, Chen Wei, Jianwei Cui, Bin Wang, Rui Yan', 'Hao Chen, Lun Du, Yuxuan Lu, Qiang Fu, Xu Chen, Shi Han, Yanbin Kang, Guangming Lu, Zi Li', 'Huiyuan Chen, Vivian Lai, Hongye Jin, Zhimeng Jiang, Mahashweta Das, Xia Hu', 'Yuyan Chen, Jin Zhao, Zhihao Wen, Zhixu Li, Yanghua Xiao', 'Zhen Chen, Jingping Liu, Deqing Yang, Yanghua Xiao, Huimin Xu, Zongyu Wang, Rui Xie, Yunsen Xian', 'Tzu-Yun Chien, Chih-Ya Shen', 'Alex Crane, Brian Lavallee, Blair D. Sullivan, Nate Veldt', 'Shohreh Deldari, Dimitris Spathis, Mohammad Malekzadeh, Fahim Kawsar, Flora D. Salim, Akhil Mathur', 'Cheng Deng, Tianhang Zhang, Zhongmou He, Qiyuan Chen, Yuanyuan Shi, Yi Xu, Luoyi Fu, Weinan Zhang, Xinbing Wang, Chenghu Zhou, Zhouhan Lin, Junxian He', 'Zhirui Deng, Zhicheng Dou, Yutao Zhu, Ji-Rong Wen', 'Haoyu Dong, Haochen Wang, Anda Zhou, Yue Hu', 'Mingyuan Fan, Yang Liu, Cen Chen, Chengyu Wang, Minghui Qiu, Wenmeng Zhou', 'Zhichao Feng, Pengfei Wang, Kaiyuan Li, Chenliang Li, Shangguang Wang', 'Junchen Fu, Fajie Yuan, Yu Song, Zheng Yuan, Mingyue Cheng, Shenghui Cheng, Jiaqi Zhang, Jie Wang, Yunzhu Pan', 'Tianyu Fu, Chiyue Wei, Yu Wang, Rex Ying', 'Chunjing Gan, Bo Huang, Binbin Hu, Jian Ma, Zhiqiang Zhang, Jun Zhou, Guannan Zhang, Wenliang Zhong', 'Chang Gong, Di Yao, Lei Zhang, Sheng Chen, Wenbin Li, Yueyang Su, Jingping Bi', 'Xiaoqiang Gui, Yueyao Cheng, Xiang-Rong Sheng, Yunfeng Zhao, Guoxian Yu, Shuguang Han, Yuning Jiang, Jian Xu, Bo Zheng', 'Bowen Hao, Chaoqun Yang, Lei Guo, Junliang Yu, Hongzhi Yin', 'Hengchang Hu, Wei Guo, Xu Liu, Yong Liu, Ruiming Tang, Rui Zhang, Min-Yen Kan', 'Qi Hu, Yangqiu Song', 'Xinrong Hu, Wushuan Chen, Jie Yang, Yi Guo, Xun Yao, Bangchao Wang, Junping Liu, Ce Xu', 'Jiani Huang, Zhenzhe Zheng, Yanrong Kang, Zixiao Wang', 'Xinke Jiang, Zidi Qin, Jiarong Xu, Xiang Ao', 'Yangqin Jiang, Yuhao Yang, Lianghao Xia, Chao Huang', 'Magdalena Kaiser, Rishiraj Saha Roy, Gerhard Weikum', 'Yungi Kim, Taeri Kim, Won-Yong Shin, Sang-Wook Kim', 'Menglin Kong, Jia Wang, Yushan Pan, Haiyang Zhang, Muzhou Hou', 'Jacopo Lenti, Corrado Monti, Gianmarco De Francisci Morales', 'Mingzhe Li, Xiuying Chen, Jing Xiang, Qishen Zhang, Changsheng Ma, Chenchen Dai, Jinxiong Chang, Zhongyi Liu, Guannan Zhang', 'Qian Li, Lixin Su, Jiashu Zhao, Long Xia, Hengyi Cai, Suqi Cheng, Hengzhu Tang, Junfeng Wang, Dawei Yin', 'Xiaodong Li, Jiawei Sheng, Jiangxia Cao, Wenyuan Zhang, Quangang Li, Tingwen Liu', 'Xuewei Li, Hongwei Chen, Jian Yu, Mankun Zhao, Tianyi Xu, Wenbin Zhang, Mei Yu', 'Guanyu Lin, Chen Gao, Yu Zheng, Yinfeng Li, Jianxin Chang, Yanan Niu, Yang Song, Kun Gai, Zhiheng Li, Depeng Jin, Yong Li', 'Guanyu Lin, Chen Gao, Yu Zheng, Jianxin Chang, Yanan Niu, Yang Song, Kun Gai, Zhiheng Li, Depeng Jin, Yong Li, Meng Wang', 'Xiaolin Lin, Jinwei Luo, Junwei Pan, Weike Pan, Zhong Ming, Xun Liu, Shudong Huang, Jie Jiang', 'Ziqian Lin, Hao Ding, Trong Nghia Hoang, Branislav Kveton, Anoop Deoras, Hao Wang', 'Dugang Liu, Chaohua Yang, Xing Tang, Yejing Wang, Fuyuan Lyu, Weihong Luo, Xiuqiang He, Zhong Ming, Xiangyu Zhao', 'Lingwen Liu, Guangqi Wen, Peng Cao, Jinzhu Yang, Weiping Li, Osmar R. Zaïane', 'Qijiong Liu, Nuo Chen, Tetsuya Sakai, Xiao-Ming Wu', 'Xiaolong Liu, Liangwei Yang, Zhiwei Liu, Mingdai Yang, Chen Wang, Hao Peng, Philip S. Yu', 'Xu Liu, Tong Yu, Kaige Xie, Junda Wu, Shuai Li', 'Yaokun Liu, Xiaowang Zhang, Minghui Zou, Zhiyong Feng', 'Yu Liu, Yanan Cao, Shi Wang, Qingyue Wang, Guanqun Bi', 'Wenze Ma, Yuexian Wang, Yanmin Zhu, Zhaobo Wang, Mengyuan Jing, Xuhao Zhao, Jiadi Yu, Feilong Tang', 'Yunshan Ma, Xiaohao Liu, Yinwei Wei, Zhulin Tao, Xiang Wang, Tat-Seng Chua', 'Haitao Mao, Lun Du, Yujia Zheng, Qiang Fu, Zelin Li, Xu Chen, Shi Han, Dongmei Zhang', 'Usman Naseem, Jinman Kim, Matloob Khushi, Adam G. Dunn', 'Aleksandr V. Petrov, Craig Macdonald', 'Xiuyuan Qin, Huanhuan Yuan, Pengpeng Zhao, Guanfeng Liu, Fuzhen Zhuang, Victor S. Sheng', 'Yunke Qu, Tong Chen, Quoc Viet Hung Nguyen, Hongzhi Yin', 'Xubin Ren, Lianghao Xia, Yuhao Yang, Wei Wei, Tianle Wang, Xuheng Cai, Chao Huang', 'Amit Roy, Juan Shu, Jia Li, Carl Yang, Olivier Elshocht, Jeroen Smeets, Pan Li', 'Hitesh Sagtani, Madan Gopal Jhawar, Rishabh Mehrotra, Olivier Jeunen', 'Sina Sajadmanesh, Daniel Gatica-Perez', 'Marija Sakota, Maxime Peyrard, Robert West', 'Jinseok Seol, Minseok Gang, Sang-goo Lee, Jaehui Park', 'Paras Sheth, Raha Moraffah, Tharindu S. Kumarage, Aman Chadha, Huan Liu', 'Yi Su, Xiangyu Wang, Elaine Ya Le, Liang Liu, Yuening Li, Haokai Lu, Benjamin Lipshitz, Sriraj Badam, Lukasz Heldt, Shuchao Bi, Ed H. Chi, Cristos Goodrow, Su-Lin Wu, Lexi Baugher, Minmin Chen', 'Yuan Sui, Mengyu Zhou, Mingjie Zhou, Shi Han, Dongmei Zhang', 'Hao Sun, Xiao Liu, Yeyun Gong, Anlei Dong, Jingwen Lu, Yan Zhang, Linjun Yang, Rangan Majumder, Nan Duan', 'Wangbin Sun, Jintang Li, Liang Chen, Bingzhe Wu, Yatao Bian, Zibin Zheng', 'Xiaojie Sun, Keping Bi, Jiafeng Guo, Sihui Yang, Qishen Zhang, Zhongyi Liu, Guannan Zhang, Xueqi Cheng', 'Jonas Wallat, Adam Jatowt, Avishek Anand', 'Binghui Wang, Minhua Lin, Tianxiang Zhou, Pan Zhou, Ang Li, Meng Pang, Hai Helen Li, Yiran Chen', 'Chengxin Wang, Yuxuan Liang, Gary Tan', 'Fali Wang, Tianxiang Zhao, Suhang Wang', 'Haonan Wang, Ziwei Wu, Jingrui He', 'Shiyu Wang', 'Shuyao Wang, Yongduo Sui, Jiancan Wu, Zhi Zheng, Hui Xiong', 'Xiaoyu Wang, Yonghui Guo, Bin Tan, Tao Yang, Dongbo Huang, Lan Xu, Hao Zhou, Xiangyang Li', 'Yakun Wang, Binbin Hu, Shuo Yang, Meiqi Zhu, Zhiqiang Zhang, Qiyang Zhang, Jun Zhou, Guo Ye, Huimei He', 'Yue Wang, Zilong Zheng, Zecheng Tang, Juntao Li, Zhihui Liu, Kunlong Chen, Jinxiong Chang, Qishen Zhang, Zhongyi Liu, Min Zhang', 'Yuhao Wang, Ziru Liu, Yichao Wang, Xiangyu Zhao, Bo Chen, Huifeng Guo, Ruiming Tang', 'Zixiao Wang, Zhenzhe Zheng, Yanrong Kang, Jiani Huang', 'He Wei, Yuekui Yang, Shaoping Ma, Haiyang Wu, Yangyang Tang, Meixi Liu, Yang Zhang', 'Wei Wei, Xubin Ren, Jiabin Tang, Qinyong Wang, Lixin Su, Suqi Cheng, Junfeng Wang, Dawei Yin, Chao Huang', 'Yihua Wen, Si Chen, Yu Tian, Wanxian Guan, Pengjie Wang, Hongbo Deng, Jian Xu, Bo Zheng, Zihao Li, Lixin Zou, Chenliang Li', 'Hyowon Wi, Yehjin Shin, Noseong Park', 'Jiafeng Xia, Dongsheng Li, Hansu Gu, Tun Lu, Peng Zhang, Li Shang, Ning Gu', 'Zhibo Xiao, Luwei Yang, Tao Zhang, Wen Jiang, Wei Ning, Yujiu Yang', 'Xin Xin, Liu Yang, Ziqi Zhao, Pengjie Ren, Zhumin Chen, Jun Ma, Zhaochun Ren', 'Hongshen Xu, Lu Chen, Zihan Zhao, Da Ma, Ruisheng Cao, Zichen Zhu, Kai Yu', 'Rong Yan, Peng Bao, Xiao Zhang, Zhongyi Liu, Hui Liu', 'Jiyuan Yang, Yue Ding, Yidan Wang, Pengjie Ren, Zhumin Chen, Fei Cai, Jun Ma, Rui Zhang, Zhaochun Ren, Xin Xin', 'Mingdai Yang, Zhiwei Liu, Liangwei Yang, Xiaolong Liu, Chen Wang, Hao Peng, Philip S. Yu', 'Zhe Yang, Qi Liu, Kai Zhang, Shiwei Tong, Enhong Chen', 'Xun Yao, Zhixin Zhang, Xinrong Hu, Jie (Jack) Yang, Yi Guo, Daniel (Dianliang) Zhu', 'Ziqi Yuan, Haoyi Zhou, Tianyu Chen, Jianxin Li', 'Zhenrui Yue, Yueqi Wang, Zhankui He, Huimin Zeng, Julian J. McAuley, Dong Wang', 'Kexin Zhang, Yichao Wang, Xiu Li, Ruiming Tang, Rui Zhang', 'Sixiao Zhang, Hongzhi Yin, Hongxu Chen, Cheng Long', 'Xiao Zhang, Peng Bao, Shirui Pan', 'Tianxiang Zhao, Wenchao Yu, Suhang Wang, Lu Wang, Xiang Zhang, Yuncong Chen, Yanchi Liu, Wei Cheng, Haifeng Chen', 'Xusheng Zhao, Hao Peng, Qiong Dai, Xu Bai, Huailiang Peng, Yanbing Liu, Qinglang Guo, Philip S. Yu', 'Zhengyang Zhou, Jiahao Shi, Hongbo Zhang, Qiongyu Chen, Xu Wang, Hongyang Chen, Yang Wang', 'Jing Zhu, Yuhang Zhou, Vassilis N. Ioannidis, Shengyi Qian, Wei Ai, Xiang Song, Danai Koutra', 'Tianyu Zhu, Yansong Shi, Yuan Zhang, Yihong Wu, Fengran Mo, Jian-Yun Nie', 'Yuchang Zhu, Jintang Li, Liang Chen, Zibin Zheng', 'Zhihong Zhu, Xuxin Cheng, Hongxiang Li, Yaowei Li, Yuexian Zou', 'Dongcheng Zou, Senzhang Wang, Xuefeng Li, Hao Peng, Yuandong Wang, Chunyang Liu, Kehua Sheng, Bo Zhang', 'Nolwenn Bernard, Ivica Kostric, Krisztian Balog', 'Amine Ferdjaoui, Séverine Affeldt, Mohamed Nadif', 'Revanth Gangi Reddy, Sharath Chandra Etagi Suresh, Hao Bai, Wentao Yao, Mankeerat Sidhu, Karan Aggarwal, Prathamesh Sonawane, ChengXiang Zhai', 'Yuanhe Guo, Haoming Liu, Hongyi Wen', 'Ambreen Hanif, Amin Beheshti, Xuyun Zhang, Steven Wood, Boualem Benatallah, EuJin Foo', 'Ghazaleh Haratinezhad Torbati, Anna Tigunova, Gerhard Weikum', 'Blaine Hill, Lihui Liu, Hanghang Tong', 'Zhao Li, Guoqi Ren, Yongchun Gu, Siwei Zhou, Xuanwu Liu, Jiaming Huang, Ming Li', 'Xuexiong Luo, Guangwei Dong, Jia Wu, Amin Beheshti, Jian Yang, Shan Xue', 'Behnam Rahdari, Hao Ding, Ziwei Fan, Yifei Ma, Zhuotong Chen, Anoop Deoras, Branislav Kveton', 'Juwal Regev, Adam Jatowt, Michael Färber', 'Razieh Shirzadkhani, Shenyang Huang, Elahe Kooshafar, Reihaneh Rabbany, Farimah Poursafaei', 'Jasper Xian, Tommaso Teofili, Ronak Pradeep, Jimmy Lin', 'Yukang Xie, Chengyu Wang, Junbing Yan, Jiyong Zhou, Feiqi Deng, Jun Huang', 'Ming Zhang, Yanyan Li, Jianguo Duan, Jizhou Huang, Jingbo Zhou', 'Ya-Lin Zhang, Caizhi Tang, Lu Yu, Jun Zhou, Longfei Li, Qing Cui, Fangfang Fan, Linbo Jiang, Xiaosong Zhao', 'Zeyu Zhang, Zhengyuan Zhu, Haiqi Zhang, Foram Patel, Josue Caraballo, Patrick Hennecke, Chengkai Li', 'Omar Alonso, Kenneth Church', 'Ricardo Baeza-Yates', 'Shashank Gupta, Philipp Hager, Jin Huang, Ali Vardasbi, Harrie Oosterhuis', 'Bowen Jin, Yu Zhang, Sha Li, Jiawei Han', 'Sanmi Koyejo, Bo Li', 'Nir Rosenfeld', 'Bram van den Akker, Olivier Jeunen, Ying Li, Ben London, Zahra Nazari, Devesh Parekh', 'Nolwenn Bernard', 'Santiago de Leon-Martinez', 'Weronika Lajewska', 'Jacopo Lenti', 'Kohei Obata', 'Aleksandr V. Petrov', 'Alveiro Alonso Rosado Gomez, Maritza Liliana Calderón-Benavides', 'Song Shuang, Muhammad Syafiq Bin Mohd Pozi', 'Yunyi Zhang', 'Harikrishnan C, Giridhar Sreenivasa Murthy, Kumar Rangarajan', 'Sudeep Das, Raghav Saboo, Chaitanya S. K. Vadrevu, Bruce Wang, Steven Xu', 'Sachin Farfade, Sachin Vernekar, Vineet Chaoji, Rajdeep Mukherjee', 'Sagar Goyal, Eti Rastogi, Sree Prasanna Rajagopal, Dong Yuan, Fen Zhao, Jai Chintagunta, Gautam Naik, Jeff Ward', 'Muneeswaran I, Advaith Shankar, Varun V, Saisubramaniam Gopalakrishnan, Vishal Vaddina', 'Akshay Jagatap, Sachin Farfade', 'Ashish Kapoor', 'Wei Qiao, Tushar Dogra, Otilia Stretcu, Yu-Han Lyu, Tiantian Fang, Dongjin Kwon, Chun-Ta Lu, Enming Luo, Yuan Wang, Chih-Chun Chia, Ariel Fuxman, Fangzhou Wang, Ranjay Krishna, Mehmet Tek', 'Md. Mostafizur Rahman, Yu Hirate', 'Akhil Raj, Hrishikesh Ganu, Saikat Kumar Das, R. Sandeep, Satyajeet Singh, Sreekanth Vempati', 'Sohini Roychowdhury', 'Mukkamala Venkata Sai Prakash, Ganesh Parab, Meghana Veeramalla, Siddartha Reddy, Varun V, Saisubramaniam Gopalakrishnan, Vishal Pagidipally, Vishal Vaddina', 'Shreya Saxena, Siva Prasad, Muneeswaran I, Advaith Shankar, Varun V, Saisubramaniam Gopalakrishnan, Vishal Vaddina', 'Jianling Wang, Haokai Lu, Minmin Chen', 'Jun Yu', 'Jiawei Zhang, Shimin Yang, Liang Shen', 'Hermelando Cruz-Pérez, Alejandro Molina-Villegas', 'Pedro Escobar-Turriza, Luis Muñoz-Miranda, Alejandro Pereira-Santana', 'José Ignacio Huertas, Luisa Fernanda Chaparro Sierra', 'Carlos Efrain Quintero Narvaez, Raúl Monroy', 'Melissa Robles, Cristian A. Martínez, Juan Camilo Prieto, Sara Palacios, Rubén Manrique', 'Jonathan Zárate-Cartas, Alejandro Molina-Villegas', 'Michael Bendersky, Cheng Li, Qiaozhu Mei, Vanessa Murdock, Jie Tang, Hongning Wang, Hamed Zamani, Mingyang Zhang', 'Vachik S. Dave, Linsey Pang, Xiquan Cui, Chen Luo, Hamed Zamani, Lingfei Wu, George Karypis', 'Tyler Derr, Yao Ma, Kaize Ding, Tong Zhao, Nesreen K. Ahmed', 'Lluís Garcia Pueyo, Symeon Papadopoulos, Prathyusha Senthil Kumar, Aristides Gionis, Panayiotis Tsaparas, Vasilis Verroios, Giuseppe Manco, Anton Andryeyev, Stefano Cresci, Timos Sellis, Anthony McCosker', 'Lazhar Labiod, Mohamed Nadif, Aghiles Salah', 'Markus Schedl, Marta Moscati, Bruno Sguerra, Romain Hennequin, Elisabeth Lex']\n",
      "Let the LLMs Talk: Simulating Human-to-Human Conversational QA via Zero-Shot LLM-to-LLM Interactions. Zahra Abbasiantaeb, Yifei Yuan, Evangelos Kanoulas, Mohammad Aliannejadi\n"
     ]
    }
   ],
   "source": [
    "titles, authors = get_title_author(link_template)\n",
    "print(titles, authors)\n",
    "print(titles[0], authors[0])"
   ]
  },
  {
   "cell_type": "code",
   "execution_count": 23,
   "metadata": {},
   "outputs": [
    {
     "name": "stdout",
     "output_type": "stream",
     "text": [
      "170 170\n"
     ]
    }
   ],
   "source": [
    "print(len(titles), len(authors))\n"
   ]
  },
  {
   "cell_type": "code",
   "execution_count": 24,
   "metadata": {},
   "outputs": [],
   "source": [
    "def graph_mask(title):\n",
    "    t = title.lower()\n",
    "    conditions = ['graph neural networks', 'gnns', 'gnn', 'graph', 'graph learning', 'graph embedding', 'network embedding']\n",
    "    return np.any([c in t for c in conditions])"
   ]
  },
  {
   "cell_type": "code",
   "execution_count": 25,
   "metadata": {},
   "outputs": [],
   "source": [
    "with open(f'2024-WSDM.txt', 'w', encoding='utf8') as fw:\n",
    "    for t, n in zip(titles, authors):\n",
    "        if graph_mask(t):\n",
    "            fw.write(f'1. **{t}**\\n\\n')\n",
    "            fw.write(f'    *{n}*\\n\\n')"
   ]
  },
  {
   "cell_type": "code",
   "execution_count": null,
   "metadata": {},
   "outputs": [],
   "source": []
  },
  {
   "cell_type": "code",
   "execution_count": null,
   "metadata": {},
   "outputs": [],
   "source": []
  },
  {
   "cell_type": "code",
   "execution_count": null,
   "metadata": {},
   "outputs": [],
   "source": []
  }
 ],
 "metadata": {
  "kernelspec": {
   "display_name": "py39",
   "language": "python",
   "name": "python3"
  },
  "language_info": {
   "codemirror_mode": {
    "name": "ipython",
    "version": 3
   },
   "file_extension": ".py",
   "mimetype": "text/x-python",
   "name": "python",
   "nbconvert_exporter": "python",
   "pygments_lexer": "ipython3",
   "version": "3.9.18"
  },
  "orig_nbformat": 4
 },
 "nbformat": 4,
 "nbformat_minor": 2
}
